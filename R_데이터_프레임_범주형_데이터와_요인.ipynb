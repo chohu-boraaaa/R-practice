{
  "nbformat": 4,
  "nbformat_minor": 0,
  "metadata": {
    "colab": {
      "name": "R 데이터 프레임_범주형 데이터와 요인",
      "provenance": [],
      "authorship_tag": "ABX9TyMu3t2f4vfhsNnNupd6L+9C",
      "include_colab_link": true
    },
    "kernelspec": {
      "name": "ir",
      "display_name": "R"
    },
    "language_info": {
      "name": "R"
    }
  },
  "cells": [
    {
      "cell_type": "markdown",
      "metadata": {
        "id": "view-in-github",
        "colab_type": "text"
      },
      "source": [
        "<a href=\"https://colab.research.google.com/github/chohu-boraaaa/R-practice/blob/main/R_%EB%8D%B0%EC%9D%B4%ED%84%B0_%ED%94%84%EB%A0%88%EC%9E%84_%EB%B2%94%EC%A3%BC%ED%98%95_%EB%8D%B0%EC%9D%B4%ED%84%B0%EC%99%80_%EC%9A%94%EC%9D%B8.ipynb\" target=\"_parent\"><img src=\"https://colab.research.google.com/assets/colab-badge.svg\" alt=\"Open In Colab\"/></a>"
      ]
    },
    {
      "cell_type": "markdown",
      "metadata": {
        "id": "NAinh4xxC_rc"
      },
      "source": [
        "# R 데이터 프레임\n",
        "\n",
        "## 범주형 데이터와 요인(Factors)\n",
        "\n",
        "### 명목형 변수와 요인"
      ]
    },
    {
      "cell_type": "code",
      "metadata": {
        "colab": {
          "base_uri": "https://localhost:8080/",
          "height": 34
        },
        "id": "VqABBLFRDMh0",
        "outputId": "5b2698be-6bdb-4381-e8ff-6a6b2772b152"
      },
      "source": [
        "# 범주 데이터의 숫자 코딩\n",
        "results <- c(1, 3, 2, 4, 3, 2, 1, 3, 2, 2)\n",
        "results"
      ],
      "execution_count": 1,
      "outputs": [
        {
          "output_type": "display_data",
          "data": {
            "text/plain": [
              " [1] 1 3 2 4 3 2 1 3 2 2"
            ],
            "text/latex": "\\begin{enumerate*}\n\\item 1\n\\item 3\n\\item 2\n\\item 4\n\\item 3\n\\item 2\n\\item 1\n\\item 3\n\\item 2\n\\item 2\n\\end{enumerate*}\n",
            "text/markdown": "1. 1\n2. 3\n3. 2\n4. 4\n5. 3\n6. 2\n7. 1\n8. 3\n9. 2\n10. 2\n\n\n",
            "text/html": [
              "<style>\n",
              ".list-inline {list-style: none; margin:0; padding: 0}\n",
              ".list-inline>li {display: inline-block}\n",
              ".list-inline>li:not(:last-child)::after {content: \"\\00b7\"; padding: 0 .5ex}\n",
              "</style>\n",
              "<ol class=list-inline><li>1</li><li>3</li><li>2</li><li>4</li><li>3</li><li>2</li><li>1</li><li>3</li><li>2</li><li>2</li></ol>\n"
            ]
          },
          "metadata": {
            "tags": []
          }
        }
      ]
    },
    {
      "cell_type": "markdown",
      "metadata": {
        "id": "YmTP7CoqD5Wm"
      },
      "source": [
        "만약 results에 '1,2,3,4'만 입력되어야 한다면 5가 입력되었을 때는 문제가 있을 것이다."
      ]
    },
    {
      "cell_type": "code",
      "metadata": {
        "colab": {
          "base_uri": "https://localhost:8080/",
          "height": 34
        },
        "id": "w225992iEFZ0",
        "outputId": "c0c27357-841d-475c-e1b7-728ad4931308"
      },
      "source": [
        "# 5가 포함되어 문제 발생\n",
        "results[1] <- 5\n",
        "results"
      ],
      "execution_count": 2,
      "outputs": [
        {
          "output_type": "display_data",
          "data": {
            "text/plain": [
              " [1] 5 3 2 4 3 2 1 3 2 2"
            ],
            "text/latex": "\\begin{enumerate*}\n\\item 5\n\\item 3\n\\item 2\n\\item 4\n\\item 3\n\\item 2\n\\item 1\n\\item 3\n\\item 2\n\\item 2\n\\end{enumerate*}\n",
            "text/markdown": "1. 5\n2. 3\n3. 2\n4. 4\n5. 3\n6. 2\n7. 1\n8. 3\n9. 2\n10. 2\n\n\n",
            "text/html": [
              "<style>\n",
              ".list-inline {list-style: none; margin:0; padding: 0}\n",
              ".list-inline>li {display: inline-block}\n",
              ".list-inline>li:not(:last-child)::after {content: \"\\00b7\"; padding: 0 .5ex}\n",
              "</style>\n",
              "<ol class=list-inline><li>5</li><li>3</li><li>2</li><li>4</li><li>3</li><li>2</li><li>1</li><li>3</li><li>2</li><li>2</li></ol>\n"
            ]
          },
          "metadata": {
            "tags": []
          }
        }
      ]
    },
    {
      "cell_type": "code",
      "metadata": {
        "colab": {
          "base_uri": "https://localhost:8080/",
          "height": 34
        },
        "id": "b0iWef5iENgJ",
        "outputId": "a6d14805-2c1a-4133-8e5d-37a86899ccb1"
      },
      "source": [
        "mean(results)"
      ],
      "execution_count": 3,
      "outputs": [
        {
          "output_type": "display_data",
          "data": {
            "text/plain": [
              "[1] 2.7"
            ],
            "text/latex": "2.7",
            "text/markdown": "2.7",
            "text/html": [
              "2.7"
            ]
          },
          "metadata": {
            "tags": []
          }
        }
      ]
    },
    {
      "cell_type": "markdown",
      "metadata": {
        "id": "HVr7-IUOESsi"
      },
      "source": [
        "만약 results에 '1,2,3,4'만 입력되어야 한다면 5가 입력되었을 때는 문제가 있을 것이다.\n",
        "-> 평균 계산에도 문제가 있을 것이다."
      ]
    },
    {
      "cell_type": "markdown",
      "metadata": {
        "id": "s1nECMV5Ednn"
      },
      "source": [
        "#### factor()\n",
        "이런 문제를 해결하기 위해 범주형 데이터 처리시 요인이라는 데이터 형태를 제공"
      ]
    },
    {
      "cell_type": "code",
      "metadata": {
        "colab": {
          "base_uri": "https://localhost:8080/",
          "height": 34
        },
        "id": "5O2c4AyJEXRG",
        "outputId": "3b28c990-cf2f-472c-f71d-e74f72ab94d1"
      },
      "source": [
        "attributes(results)"
      ],
      "execution_count": 5,
      "outputs": [
        {
          "output_type": "display_data",
          "data": {
            "text/plain": [
              "NULL"
            ]
          },
          "metadata": {
            "tags": []
          }
        }
      ]
    },
    {
      "cell_type": "code",
      "metadata": {
        "colab": {
          "base_uri": "https://localhost:8080/",
          "height": 67
        },
        "id": "gtvhv9sCEbEk",
        "outputId": "d8973601-fd10-4385-86b7-78ea2624ed10"
      },
      "source": [
        "# 1부터 4까지만 유효한 숫자로 판단\n",
        "RightResults <- factor(results, levels=1:4)\n",
        "RightResults"
      ],
      "execution_count": 7,
      "outputs": [
        {
          "output_type": "display_data",
          "data": {
            "text/plain": [
              " [1] <NA> 3    2    4    3    2    1    3    2    2   \n",
              "Levels: 1 2 3 4"
            ],
            "text/latex": "\\begin{enumerate*}\n\\item <NA>\n\\item 3\n\\item 2\n\\item 4\n\\item 3\n\\item 2\n\\item 1\n\\item 3\n\\item 2\n\\item 2\n\\end{enumerate*}\n\n\\emph{Levels}: \\begin{enumerate*}\n\\item '1'\n\\item '2'\n\\item '3'\n\\item '4'\n\\end{enumerate*}\n",
            "text/markdown": "1. &lt;NA&gt;\n2. 3\n3. 2\n4. 4\n5. 3\n6. 2\n7. 1\n8. 3\n9. 2\n10. 2\n\n\n\n**Levels**: 1. '1'\n2. '2'\n3. '3'\n4. '4'\n\n\n",
            "text/html": [
              "<style>\n",
              ".list-inline {list-style: none; margin:0; padding: 0}\n",
              ".list-inline>li {display: inline-block}\n",
              ".list-inline>li:not(:last-child)::after {content: \"\\00b7\"; padding: 0 .5ex}\n",
              "</style>\n",
              "<ol class=list-inline><li>&lt;NA&gt;</li><li>3</li><li>2</li><li>4</li><li>3</li><li>2</li><li>1</li><li>3</li><li>2</li><li>2</li></ol>\n",
              "\n",
              "<details>\n",
              "\t<summary style=display:list-item;cursor:pointer>\n",
              "\t\t<strong>Levels</strong>:\n",
              "\t</summary>\n",
              "\t<style>\n",
              "\t.list-inline {list-style: none; margin:0; padding: 0}\n",
              "\t.list-inline>li {display: inline-block}\n",
              "\t.list-inline>li:not(:last-child)::after {content: \"\\00b7\"; padding: 0 .5ex}\n",
              "\t</style>\n",
              "\t<ol class=list-inline><li>'1'</li><li>'2'</li><li>'3'</li><li>'4'</li></ol>\n",
              "</details>"
            ]
          },
          "metadata": {
            "tags": []
          }
        }
      ]
    },
    {
      "cell_type": "code",
      "metadata": {
        "colab": {
          "base_uri": "https://localhost:8080/",
          "height": 112
        },
        "id": "kdD4pvUrE5Ae",
        "outputId": "bd211199-3a90-47d2-dc88-84f1a69574fe"
      },
      "source": [
        "attributes(RightResults)"
      ],
      "execution_count": 8,
      "outputs": [
        {
          "output_type": "display_data",
          "data": {
            "text/plain": [
              "$levels\n",
              "[1] \"1\" \"2\" \"3\" \"4\"\n",
              "\n",
              "$class\n",
              "[1] \"factor\"\n"
            ],
            "text/latex": "\\begin{description}\n\\item[\\$levels] \\begin{enumerate*}\n\\item '1'\n\\item '2'\n\\item '3'\n\\item '4'\n\\end{enumerate*}\n\n\\item[\\$class] 'factor'\n\\end{description}\n",
            "text/markdown": "$levels\n:   1. '1'\n2. '2'\n3. '3'\n4. '4'\n\n\n\n$class\n:   'factor'\n\n\n",
            "text/html": [
              "<dl>\n",
              "\t<dt>$levels</dt>\n",
              "\t\t<dd><style>\n",
              ".list-inline {list-style: none; margin:0; padding: 0}\n",
              ".list-inline>li {display: inline-block}\n",
              ".list-inline>li:not(:last-child)::after {content: \"\\00b7\"; padding: 0 .5ex}\n",
              "</style>\n",
              "<ol class=list-inline><li>'1'</li><li>'2'</li><li>'3'</li><li>'4'</li></ol>\n",
              "</dd>\n",
              "\t<dt>$class</dt>\n",
              "\t\t<dd>'factor'</dd>\n",
              "</dl>\n"
            ]
          },
          "metadata": {
            "tags": []
          }
        }
      ]
    },
    {
      "cell_type": "markdown",
      "metadata": {
        "id": "vtQ1cEUeFJlh"
      },
      "source": [
        "levels에 포함되지 않은 5의 값은 NA로 변환"
      ]
    },
    {
      "cell_type": "code",
      "metadata": {
        "colab": {
          "base_uri": "https://localhost:8080/",
          "height": 67
        },
        "id": "pTRB1AboE-5S",
        "outputId": "27afdecd-eea0-40c2-853e-ebc2e0c9fb20"
      },
      "source": [
        "# 1,2,3,4만 포함되도록 변경한 후 요인으로 변경\n",
        "results[1] <- 1\n",
        "RightResults <- factor(results, levels=1:4)\n",
        "RightResults"
      ],
      "execution_count": 11,
      "outputs": [
        {
          "output_type": "display_data",
          "data": {
            "text/plain": [
              " [1] 1 3 2 4 3 2 1 3 2 2\n",
              "Levels: 1 2 3 4"
            ],
            "text/latex": "\\begin{enumerate*}\n\\item 1\n\\item 3\n\\item 2\n\\item 4\n\\item 3\n\\item 2\n\\item 1\n\\item 3\n\\item 2\n\\item 2\n\\end{enumerate*}\n\n\\emph{Levels}: \\begin{enumerate*}\n\\item '1'\n\\item '2'\n\\item '3'\n\\item '4'\n\\end{enumerate*}\n",
            "text/markdown": "1. 1\n2. 3\n3. 2\n4. 4\n5. 3\n6. 2\n7. 1\n8. 3\n9. 2\n10. 2\n\n\n\n**Levels**: 1. '1'\n2. '2'\n3. '3'\n4. '4'\n\n\n",
            "text/html": [
              "<style>\n",
              ".list-inline {list-style: none; margin:0; padding: 0}\n",
              ".list-inline>li {display: inline-block}\n",
              ".list-inline>li:not(:last-child)::after {content: \"\\00b7\"; padding: 0 .5ex}\n",
              "</style>\n",
              "<ol class=list-inline><li>1</li><li>3</li><li>2</li><li>4</li><li>3</li><li>2</li><li>1</li><li>3</li><li>2</li><li>2</li></ol>\n",
              "\n",
              "<details>\n",
              "\t<summary style=display:list-item;cursor:pointer>\n",
              "\t\t<strong>Levels</strong>:\n",
              "\t</summary>\n",
              "\t<style>\n",
              "\t.list-inline {list-style: none; margin:0; padding: 0}\n",
              "\t.list-inline>li {display: inline-block}\n",
              "\t.list-inline>li:not(:last-child)::after {content: \"\\00b7\"; padding: 0 .5ex}\n",
              "\t</style>\n",
              "\t<ol class=list-inline><li>'1'</li><li>'2'</li><li>'3'</li><li>'4'</li></ol>\n",
              "</details>"
            ]
          },
          "metadata": {
            "tags": []
          }
        }
      ]
    },
    {
      "cell_type": "code",
      "metadata": {
        "colab": {
          "base_uri": "https://localhost:8080/",
          "height": 67
        },
        "id": "-us3XQJzFUVJ",
        "outputId": "84d55b09-1c24-4311-c32a-a264a64c1800"
      },
      "source": [
        "# 요인 데이터에 4를 추가하면 문제 없음\n",
        "RightResults[11] <- 4\n",
        "RightResults"
      ],
      "execution_count": 12,
      "outputs": [
        {
          "output_type": "display_data",
          "data": {
            "text/plain": [
              " [1] 1 3 2 4 3 2 1 3 2 2 4\n",
              "Levels: 1 2 3 4"
            ],
            "text/latex": "\\begin{enumerate*}\n\\item 1\n\\item 3\n\\item 2\n\\item 4\n\\item 3\n\\item 2\n\\item 1\n\\item 3\n\\item 2\n\\item 2\n\\item 4\n\\end{enumerate*}\n\n\\emph{Levels}: \\begin{enumerate*}\n\\item '1'\n\\item '2'\n\\item '3'\n\\item '4'\n\\end{enumerate*}\n",
            "text/markdown": "1. 1\n2. 3\n3. 2\n4. 4\n5. 3\n6. 2\n7. 1\n8. 3\n9. 2\n10. 2\n11. 4\n\n\n\n**Levels**: 1. '1'\n2. '2'\n3. '3'\n4. '4'\n\n\n",
            "text/html": [
              "<style>\n",
              ".list-inline {list-style: none; margin:0; padding: 0}\n",
              ".list-inline>li {display: inline-block}\n",
              ".list-inline>li:not(:last-child)::after {content: \"\\00b7\"; padding: 0 .5ex}\n",
              "</style>\n",
              "<ol class=list-inline><li>1</li><li>3</li><li>2</li><li>4</li><li>3</li><li>2</li><li>1</li><li>3</li><li>2</li><li>2</li><li>4</li></ol>\n",
              "\n",
              "<details>\n",
              "\t<summary style=display:list-item;cursor:pointer>\n",
              "\t\t<strong>Levels</strong>:\n",
              "\t</summary>\n",
              "\t<style>\n",
              "\t.list-inline {list-style: none; margin:0; padding: 0}\n",
              "\t.list-inline>li {display: inline-block}\n",
              "\t.list-inline>li:not(:last-child)::after {content: \"\\00b7\"; padding: 0 .5ex}\n",
              "\t</style>\n",
              "\t<ol class=list-inline><li>'1'</li><li>'2'</li><li>'3'</li><li>'4'</li></ol>\n",
              "</details>"
            ]
          },
          "metadata": {
            "tags": []
          }
        }
      ]
    },
    {
      "cell_type": "code",
      "metadata": {
        "colab": {
          "base_uri": "https://localhost:8080/",
          "height": 102
        },
        "id": "TpqHAggfGbod",
        "outputId": "281ed813-a196-44f3-a2f8-1adea214b183"
      },
      "source": [
        "# 요인 데이터에 이미 정의된 수준이 아닌 다른 값을 추가하면 데이터는 NA로 입력됨\n",
        "RightResults[12] <- 5\n",
        "RightResults"
      ],
      "execution_count": 13,
      "outputs": [
        {
          "output_type": "stream",
          "text": [
            "Warning message in `[<-.factor`(`*tmp*`, 12, value = 5):\n",
            "“invalid factor level, NA generated”\n"
          ],
          "name": "stderr"
        },
        {
          "output_type": "display_data",
          "data": {
            "text/plain": [
              " [1] 1    3    2    4    3    2    1    3    2    2    4    <NA>\n",
              "Levels: 1 2 3 4"
            ],
            "text/latex": "\\begin{enumerate*}\n\\item 1\n\\item 3\n\\item 2\n\\item 4\n\\item 3\n\\item 2\n\\item 1\n\\item 3\n\\item 2\n\\item 2\n\\item 4\n\\item <NA>\n\\end{enumerate*}\n\n\\emph{Levels}: \\begin{enumerate*}\n\\item '1'\n\\item '2'\n\\item '3'\n\\item '4'\n\\end{enumerate*}\n",
            "text/markdown": "1. 1\n2. 3\n3. 2\n4. 4\n5. 3\n6. 2\n7. 1\n8. 3\n9. 2\n10. 2\n11. 4\n12. &lt;NA&gt;\n\n\n\n**Levels**: 1. '1'\n2. '2'\n3. '3'\n4. '4'\n\n\n",
            "text/html": [
              "<style>\n",
              ".list-inline {list-style: none; margin:0; padding: 0}\n",
              ".list-inline>li {display: inline-block}\n",
              ".list-inline>li:not(:last-child)::after {content: \"\\00b7\"; padding: 0 .5ex}\n",
              "</style>\n",
              "<ol class=list-inline><li>1</li><li>3</li><li>2</li><li>4</li><li>3</li><li>2</li><li>1</li><li>3</li><li>2</li><li>2</li><li>4</li><li>&lt;NA&gt;</li></ol>\n",
              "\n",
              "<details>\n",
              "\t<summary style=display:list-item;cursor:pointer>\n",
              "\t\t<strong>Levels</strong>:\n",
              "\t</summary>\n",
              "\t<style>\n",
              "\t.list-inline {list-style: none; margin:0; padding: 0}\n",
              "\t.list-inline>li {display: inline-block}\n",
              "\t.list-inline>li:not(:last-child)::after {content: \"\\00b7\"; padding: 0 .5ex}\n",
              "\t</style>\n",
              "\t<ol class=list-inline><li>'1'</li><li>'2'</li><li>'3'</li><li>'4'</li></ol>\n",
              "</details>"
            ]
          },
          "metadata": {
            "tags": []
          }
        }
      ]
    },
    {
      "cell_type": "markdown",
      "metadata": {
        "id": "THzXg2lyGwN_"
      },
      "source": [
        "요인 데이터를 숫자 벡터로 착각하면 안됨. 숫자 데이터가 아니라서 RightResults의 평균은 구할 수 없음"
      ]
    },
    {
      "cell_type": "code",
      "metadata": {
        "colab": {
          "base_uri": "https://localhost:8080/",
          "height": 69
        },
        "id": "Xy6bRbTEGpPH",
        "outputId": "0ec9ebb9-a7a4-4804-e63b-012e876581bf"
      },
      "source": [
        "RightResults[12] <- 1\n",
        "mean(RightResults)"
      ],
      "execution_count": 14,
      "outputs": [
        {
          "output_type": "stream",
          "text": [
            "Warning message in mean.default(RightResults):\n",
            "“argument is not numeric or logical: returning NA”\n"
          ],
          "name": "stderr"
        },
        {
          "output_type": "display_data",
          "data": {
            "text/plain": [
              "[1] NA"
            ],
            "text/latex": "<NA>",
            "text/markdown": "&lt;NA&gt;",
            "text/html": [
              "&lt;NA&gt;"
            ]
          },
          "metadata": {
            "tags": []
          }
        }
      ]
    },
    {
      "cell_type": "markdown",
      "metadata": {
        "id": "8SLwxGhsHBqV"
      },
      "source": [
        "#### levels()"
      ]
    },
    {
      "cell_type": "code",
      "metadata": {
        "colab": {
          "base_uri": "https://localhost:8080/",
          "height": 34
        },
        "id": "1XMEQLlxG8aY",
        "outputId": "0f788e89-a465-4f50-e3fd-7adbcb69e699"
      },
      "source": [
        "levels(RightResults)"
      ],
      "execution_count": 15,
      "outputs": [
        {
          "output_type": "display_data",
          "data": {
            "text/plain": [
              "[1] \"1\" \"2\" \"3\" \"4\""
            ],
            "text/latex": "\\begin{enumerate*}\n\\item '1'\n\\item '2'\n\\item '3'\n\\item '4'\n\\end{enumerate*}\n",
            "text/markdown": "1. '1'\n2. '2'\n3. '3'\n4. '4'\n\n\n",
            "text/html": [
              "<style>\n",
              ".list-inline {list-style: none; margin:0; padding: 0}\n",
              ".list-inline>li {display: inline-block}\n",
              ".list-inline>li:not(:last-child)::after {content: \"\\00b7\"; padding: 0 .5ex}\n",
              "</style>\n",
              "<ol class=list-inline><li>'1'</li><li>'2'</li><li>'3'</li><li>'4'</li></ol>\n"
            ]
          },
          "metadata": {
            "tags": []
          }
        }
      ]
    },
    {
      "cell_type": "code",
      "metadata": {
        "colab": {
          "base_uri": "https://localhost:8080/",
          "height": 67
        },
        "id": "GfWUxlWyHfEK",
        "outputId": "48776590-93db-482b-e036-fe87ccd498e9"
      },
      "source": [
        "levels(RightResults) <- c(\"A\", \"B\", \"C\", \"D\")\n",
        "RightResults"
      ],
      "execution_count": 16,
      "outputs": [
        {
          "output_type": "display_data",
          "data": {
            "text/plain": [
              " [1] A C B D C B A C B B D A\n",
              "Levels: A B C D"
            ],
            "text/latex": "\\begin{enumerate*}\n\\item A\n\\item C\n\\item B\n\\item D\n\\item C\n\\item B\n\\item A\n\\item C\n\\item B\n\\item B\n\\item D\n\\item A\n\\end{enumerate*}\n\n\\emph{Levels}: \\begin{enumerate*}\n\\item 'A'\n\\item 'B'\n\\item 'C'\n\\item 'D'\n\\end{enumerate*}\n",
            "text/markdown": "1. A\n2. C\n3. B\n4. D\n5. C\n6. B\n7. A\n8. C\n9. B\n10. B\n11. D\n12. A\n\n\n\n**Levels**: 1. 'A'\n2. 'B'\n3. 'C'\n4. 'D'\n\n\n",
            "text/html": [
              "<style>\n",
              ".list-inline {list-style: none; margin:0; padding: 0}\n",
              ".list-inline>li {display: inline-block}\n",
              ".list-inline>li:not(:last-child)::after {content: \"\\00b7\"; padding: 0 .5ex}\n",
              "</style>\n",
              "<ol class=list-inline><li>A</li><li>C</li><li>B</li><li>D</li><li>C</li><li>B</li><li>A</li><li>C</li><li>B</li><li>B</li><li>D</li><li>A</li></ol>\n",
              "\n",
              "<details>\n",
              "\t<summary style=display:list-item;cursor:pointer>\n",
              "\t\t<strong>Levels</strong>:\n",
              "\t</summary>\n",
              "\t<style>\n",
              "\t.list-inline {list-style: none; margin:0; padding: 0}\n",
              "\t.list-inline>li {display: inline-block}\n",
              "\t.list-inline>li:not(:last-child)::after {content: \"\\00b7\"; padding: 0 .5ex}\n",
              "\t</style>\n",
              "\t<ol class=list-inline><li>'A'</li><li>'B'</li><li>'C'</li><li>'D'</li></ol>\n",
              "</details>"
            ]
          },
          "metadata": {
            "tags": []
          }
        }
      ]
    },
    {
      "cell_type": "markdown",
      "metadata": {
        "id": "0zTYX9eQIDPk"
      },
      "source": [
        "위 결과에서 RightResults는 문자열 데이터로 변환된 것은 아니다. 요인은 내부적으로 데이터를 각각 원래 저장한 대로 자연수로 관리한다. 다만 입출력할 때만 요인에 부여된 새로운 수준인 문자로 처리할 뿐이다."
      ]
    },
    {
      "cell_type": "code",
      "metadata": {
        "colab": {
          "base_uri": "https://localhost:8080/",
          "height": 34
        },
        "id": "iyV9YmAxH_hR",
        "outputId": "2743798f-73f9-4bfa-d56c-31244212d2ad"
      },
      "source": [
        "# 요인의 근원적 타입 확인\n",
        "typeof(RightResults)"
      ],
      "execution_count": 17,
      "outputs": [
        {
          "output_type": "display_data",
          "data": {
            "text/plain": [
              "[1] \"integer\""
            ],
            "text/latex": "'integer'",
            "text/markdown": "'integer'",
            "text/html": [
              "'integer'"
            ]
          },
          "metadata": {
            "tags": []
          }
        }
      ]
    },
    {
      "cell_type": "code",
      "metadata": {
        "colab": {
          "base_uri": "https://localhost:8080/",
          "height": 34
        },
        "id": "-Cg8SC9uIbNL",
        "outputId": "d74396ae-adf2-438e-fce0-2ede5ba77e47"
      },
      "source": [
        "class(RightResults)"
      ],
      "execution_count": 18,
      "outputs": [
        {
          "output_type": "display_data",
          "data": {
            "text/plain": [
              "[1] \"factor\""
            ],
            "text/latex": "'factor'",
            "text/markdown": "'factor'",
            "text/html": [
              "'factor'"
            ]
          },
          "metadata": {
            "tags": []
          }
        }
      ]
    },
    {
      "cell_type": "code",
      "metadata": {
        "colab": {
          "base_uri": "https://localhost:8080/",
          "height": 34
        },
        "id": "lpf_g8zhId6-",
        "outputId": "592a06ef-6b5c-4eb0-d481-0007fc4a7bda"
      },
      "source": [
        "# 요인이 내부적으로 어떤 정보를 가지고 있는 확인\n",
        "unclass(RightResults)"
      ],
      "execution_count": 19,
      "outputs": [
        {
          "output_type": "display_data",
          "data": {
            "text/plain": [
              " [1] 1 3 2 4 3 2 1 3 2 2 4 1\n",
              "attr(,\"levels\")\n",
              "[1] \"A\" \"B\" \"C\" \"D\""
            ],
            "text/latex": "\\begin{enumerate*}\n\\item 1\n\\item 3\n\\item 2\n\\item 4\n\\item 3\n\\item 2\n\\item 1\n\\item 3\n\\item 2\n\\item 2\n\\item 4\n\\item 1\n\\end{enumerate*}\n",
            "text/markdown": "1. 1\n2. 3\n3. 2\n4. 4\n5. 3\n6. 2\n7. 1\n8. 3\n9. 2\n10. 2\n11. 4\n12. 1\n\n\n",
            "text/html": [
              "<style>\n",
              ".list-inline {list-style: none; margin:0; padding: 0}\n",
              ".list-inline>li {display: inline-block}\n",
              ".list-inline>li:not(:last-child)::after {content: \"\\00b7\"; padding: 0 .5ex}\n",
              "</style>\n",
              "<ol class=list-inline><li>1</li><li>3</li><li>2</li><li>4</li><li>3</li><li>2</li><li>1</li><li>3</li><li>2</li><li>2</li><li>4</li><li>1</li></ol>\n"
            ]
          },
          "metadata": {
            "tags": []
          }
        }
      ]
    },
    {
      "cell_type": "code",
      "metadata": {
        "colab": {
          "base_uri": "https://localhost:8080/",
          "height": 34
        },
        "id": "1aAXNj_KIpEN",
        "outputId": "3a4cca54-9c4a-4dcd-8f5b-14a79fc9046a"
      },
      "source": [
        "levels(RightResults)"
      ],
      "execution_count": 20,
      "outputs": [
        {
          "output_type": "display_data",
          "data": {
            "text/plain": [
              "[1] \"A\" \"B\" \"C\" \"D\""
            ],
            "text/latex": "\\begin{enumerate*}\n\\item 'A'\n\\item 'B'\n\\item 'C'\n\\item 'D'\n\\end{enumerate*}\n",
            "text/markdown": "1. 'A'\n2. 'B'\n3. 'C'\n4. 'D'\n\n\n",
            "text/html": [
              "<style>\n",
              ".list-inline {list-style: none; margin:0; padding: 0}\n",
              ".list-inline>li {display: inline-block}\n",
              ".list-inline>li:not(:last-child)::after {content: \"\\00b7\"; padding: 0 .5ex}\n",
              "</style>\n",
              "<ol class=list-inline><li>'A'</li><li>'B'</li><li>'C'</li><li>'D'</li></ol>\n"
            ]
          },
          "metadata": {
            "tags": []
          }
        }
      ]
    },
    {
      "cell_type": "code",
      "metadata": {
        "colab": {
          "base_uri": "https://localhost:8080/"
        },
        "id": "ZKV-hKZRIt5n",
        "outputId": "a2021146-e51a-4241-9422-c0f0103c910a"
      },
      "source": [
        "# 요인은 항상 수준에 정의되어 있는 데이터 값만으로 입력되거나 출력될 수 있음\n",
        "RightResults[11] <- 4"
      ],
      "execution_count": 21,
      "outputs": [
        {
          "output_type": "stream",
          "text": [
            "Warning message in `[<-.factor`(`*tmp*`, 11, value = 4):\n",
            "“invalid factor level, NA generated”\n"
          ],
          "name": "stderr"
        }
      ]
    },
    {
      "cell_type": "code",
      "metadata": {
        "colab": {
          "base_uri": "https://localhost:8080/",
          "height": 67
        },
        "id": "nAZhcr2UJDNg",
        "outputId": "da473d21-7040-4345-f513-3cc2d266fa0a"
      },
      "source": [
        "RightResults[12] <- \"D\"\n",
        "RightResults"
      ],
      "execution_count": 22,
      "outputs": [
        {
          "output_type": "display_data",
          "data": {
            "text/plain": [
              " [1] A    C    B    D    C    B    A    C    B    B    <NA> D   \n",
              "Levels: A B C D"
            ],
            "text/latex": "\\begin{enumerate*}\n\\item A\n\\item C\n\\item B\n\\item D\n\\item C\n\\item B\n\\item A\n\\item C\n\\item B\n\\item B\n\\item <NA>\n\\item D\n\\end{enumerate*}\n\n\\emph{Levels}: \\begin{enumerate*}\n\\item 'A'\n\\item 'B'\n\\item 'C'\n\\item 'D'\n\\end{enumerate*}\n",
            "text/markdown": "1. A\n2. C\n3. B\n4. D\n5. C\n6. B\n7. A\n8. C\n9. B\n10. B\n11. &lt;NA&gt;\n12. D\n\n\n\n**Levels**: 1. 'A'\n2. 'B'\n3. 'C'\n4. 'D'\n\n\n",
            "text/html": [
              "<style>\n",
              ".list-inline {list-style: none; margin:0; padding: 0}\n",
              ".list-inline>li {display: inline-block}\n",
              ".list-inline>li:not(:last-child)::after {content: \"\\00b7\"; padding: 0 .5ex}\n",
              "</style>\n",
              "<ol class=list-inline><li>A</li><li>C</li><li>B</li><li>D</li><li>C</li><li>B</li><li>A</li><li>C</li><li>B</li><li>B</li><li>&lt;NA&gt;</li><li>D</li></ol>\n",
              "\n",
              "<details>\n",
              "\t<summary style=display:list-item;cursor:pointer>\n",
              "\t\t<strong>Levels</strong>:\n",
              "\t</summary>\n",
              "\t<style>\n",
              "\t.list-inline {list-style: none; margin:0; padding: 0}\n",
              "\t.list-inline>li {display: inline-block}\n",
              "\t.list-inline>li:not(:last-child)::after {content: \"\\00b7\"; padding: 0 .5ex}\n",
              "\t</style>\n",
              "\t<ol class=list-inline><li>'A'</li><li>'B'</li><li>'C'</li><li>'D'</li></ol>\n",
              "</details>"
            ]
          },
          "metadata": {
            "tags": []
          }
        }
      ]
    }
  ]
}